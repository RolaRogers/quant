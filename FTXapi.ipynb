{
 "cells": [
  {
   "cell_type": "code",
   "execution_count": 2,
   "metadata": {},
   "outputs": [],
   "source": [
    "import pandas as pd\n",
    "import requests"
   ]
  },
  {
   "cell_type": "code",
   "execution_count": 3,
   "metadata": {},
   "outputs": [],
   "source": [
    "#ni idea como funciona el start_time\n",
    "def get_price(tick,res):\n",
    "    res=str(res)\n",
    "    hist=requests.get('https://ftx.com/api/markets/'+tick+'-PERP/candles?resolution='+res+'&start_time='+'0'+'&limit=5000').json()\n",
    "    hist=pd.DataFrame(hist['result'])\n",
    "    hist.drop(['startTime'], axis = 1, inplace=True)\n",
    "    return hist\n",
    "\n",
    "def get_time(hist):\n",
    "    aux=hist.copy(deep=True)\n",
    "    aux['time'] = pd.to_datetime(aux['time'], unit='ms')\n",
    "    aux.set_index('time', inplace=True)\n",
    "    return aux"
   ]
  }
 ],
 "metadata": {
  "kernelspec": {
   "display_name": "Python 3",
   "language": "python",
   "name": "python3"
  },
  "language_info": {
   "codemirror_mode": {
    "name": "ipython",
    "version": 3
   },
   "file_extension": ".py",
   "mimetype": "text/x-python",
   "name": "python",
   "nbconvert_exporter": "python",
   "pygments_lexer": "ipython3",
   "version": "3.7.3"
  }
 },
 "nbformat": 4,
 "nbformat_minor": 2
}
