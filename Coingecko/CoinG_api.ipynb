{
 "cells": [
  {
   "cell_type": "code",
   "execution_count": 36,
   "metadata": {},
   "outputs": [],
   "source": [
    "import pandas as pd\n",
    "import requests\n",
    "import numpy as np\n",
    "import matplotlib.pyplot as plt\n",
    "import statsmodels.api as stat\n",
    "import statsmodels.tsa.stattools as ts\n",
    "import csv\n",
    "from pycoingecko import CoinGeckoAPI\n",
    "cg = CoinGeckoAPI()\n",
    "import time"
   ]
  },
  {
   "cell_type": "code",
   "execution_count": 40,
   "metadata": {},
   "outputs": [],
   "source": [
    "hist=cg.get_coin_market_chart_range_by_id(id='bitcoin',vs_currency='usd',from_timestamp='1295993242',to_timestamp=str(tf))\n",
    "df=pd.DataFrame(hist['prices'])\n",
    "df = df.rename(columns={0: 'time', 1: 'price'})\n",
    "df_t=df.copy(deep=True)\n",
    "df_t['time'] = pd.to_datetime(df_t['time'], unit='ms')\n",
    "df_t.set_index('time', inplace=True)"
   ]
  },
  {
   "cell_type": "code",
   "execution_count": 133,
   "metadata": {},
   "outputs": [],
   "source": [
    "t0='1295993242'\n",
    "\n",
    "def get_price(tick,ti):\n",
    "    tf=time.time()\n",
    "    tf=int(tf)\n",
    "    hist=cg.get_coin_market_chart_range_by_id(id=tick,vs_currency='usd',from_timestamp=ti,to_timestamp=str(tf))\n",
    "    df=pd.DataFrame(hist['prices'])\n",
    "    df = df.rename(columns={0: 'time', 1: 'close'})\n",
    "    df_t=df.copy(deep=True)\n",
    "    df_t['time'] = pd.to_datetime(df_t['time'], unit='ms')\n",
    "    df_t.set_index('time', inplace=True)\n",
    "    return df,df_t\n",
    "\n",
    "def coint_test(tick1,tick2):\n",
    "    A=get_price(tick1,t0)[0]\n",
    "    B=get_price(tick2,t0)[0]\n",
    "    ti_A=A['time'][0]\n",
    "    ti_B=B['time'][0]\n",
    "    if ti_A<ti_B:\n",
    "        A=get_price(tick1,str(int(ti_B/1000)))\n",
    "        B=get_price(tick2,str(int(ti_B/1000)))\n",
    "    else:\n",
    "        A=get_price(tick1,str(int(ti_A/1000)))\n",
    "        B=get_price(tick2,str(int(ti_A/1000)))\n",
    "    A_t=A[1]\n",
    "    B_t=B[1]\n",
    "    A=A[0]\n",
    "    B=B[0]\n",
    "    X=np.stack((np.log10(A['close']), np.log10(B['close'])), axis=0)\n",
    "    cov=np.cov(X)\n",
    "    #print(cov)\n",
    "    covAB=cov[0,1]\n",
    "    varA=cov[0,0]\n",
    "    varB=cov[1,1]\n",
    "    cor=covAB/(np.sqrt(varA*varB))\n",
    "    lAB=covAB/varB #res=log(A)-lAB*log(B)\n",
    "    lBA=covAB/varA #res=log(B)-lBA*log(A)\n",
    "    spreadAB=np.log10(A['close'])-lAB*np.log10(B['close'])\n",
    "    muAB=np.mean(spreadAB)\n",
    "    spreadBA=np.log10(B['close'])-lBA*np.log10(A['close'])\n",
    "    muBA=np.mean(spreadBA)\n",
    "    return cor,lAB,lBA,muAB,muBA,spreadAB,spreadBA"
   ]
  },
  {
   "cell_type": "code",
   "execution_count": 116,
   "metadata": {},
   "outputs": [
    {
     "data": {
      "text/plain": [
       "(               time         close\n",
       " 0     1438905600000    278.508814\n",
       " 1     1438992000000    259.800728\n",
       " 2     1439078400000    264.338483\n",
       " 3     1439164800000    263.578200\n",
       " 4     1439251200000    269.866800\n",
       " ...             ...           ...\n",
       " 2359  1642723200000  40707.682414\n",
       " 2360  1642809600000  36508.799790\n",
       " 2361  1642896000000  35180.435463\n",
       " 2362  1642982400000  36306.409440\n",
       " 2363  1643068800000  36774.007142\n",
       " \n",
       " [2364 rows x 2 columns],\n",
       "                    close\n",
       " time                    \n",
       " 2015-08-07    278.508814\n",
       " 2015-08-08    259.800728\n",
       " 2015-08-09    264.338483\n",
       " 2015-08-10    263.578200\n",
       " 2015-08-11    269.866800\n",
       " ...                  ...\n",
       " 2022-01-21  40707.682414\n",
       " 2022-01-22  36508.799790\n",
       " 2022-01-23  35180.435463\n",
       " 2022-01-24  36306.409440\n",
       " 2022-01-25  36774.007142\n",
       " \n",
       " [2364 rows x 1 columns])"
      ]
     },
     "execution_count": 116,
     "metadata": {},
     "output_type": "execute_result"
    }
   ],
   "source": [
    "get_price('bitcoin','1438905600')"
   ]
  },
  {
   "cell_type": "code",
   "execution_count": null,
   "metadata": {},
   "outputs": [],
   "source": []
  }
 ],
 "metadata": {
  "kernelspec": {
   "display_name": "Python 3",
   "language": "python",
   "name": "python3"
  },
  "language_info": {
   "codemirror_mode": {
    "name": "ipython",
    "version": 3
   },
   "file_extension": ".py",
   "mimetype": "text/x-python",
   "name": "python",
   "nbconvert_exporter": "python",
   "pygments_lexer": "ipython3",
   "version": "3.7.6"
  }
 },
 "nbformat": 4,
 "nbformat_minor": 4
}
