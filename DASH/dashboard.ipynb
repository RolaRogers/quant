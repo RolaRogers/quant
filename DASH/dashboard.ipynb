{
 "cells": [
  {
   "cell_type": "code",
   "execution_count": 35,
   "metadata": {},
   "outputs": [],
   "source": [
    "import dash\n",
    "from dash import html as html\n",
    "import dash_core_components as dcc\n",
    "import plotly.graph_objects as go\n",
    "import plotly.express as px\n",
    "import datetime\n",
    "import time\n",
    "import numpy as np\n",
    "import pandas as pd\n",
    "import requests"
   ]
  },
  {
   "cell_type": "code",
   "execution_count": 57,
   "metadata": {},
   "outputs": [],
   "source": [
    "def get_price(tick,res,limit,start):\n",
    "    #start is the startime of our trade in epoch time\n",
    "    start=str(start)\n",
    "    res=str(res)\n",
    "    hist=requests.get('https://ftx.com/api/markets/'+tick+'-PERP/candles?resolution='+res+'&start_time='+start+'&limit='+limit).json()\n",
    "    hist=pd.DataFrame(hist['result'])\n",
    "    hist.drop(['startTime'], axis = 1, inplace=True)\n",
    "    return hist\n",
    "\n",
    "def get_price_24h(tick,res):\n",
    "    t=time.time()-86400\n",
    "    t=np.round(t)\n",
    "    data=get_price(tick,res,'5000',t)\n",
    "    return data\n",
    "\n",
    "#get prices over the last delta seconds\n",
    "def get_price_delta(tick,res,delta):\n",
    "    t=time.time()-delta\n",
    "    t=np.round(t)\n",
    "    data=get_price(tick,res,'5000',t)\n",
    "    return data"
   ]
  },
  {
   "cell_type": "code",
   "execution_count": 96,
   "metadata": {},
   "outputs": [],
   "source": [
    "def graph_tick(tick,res,delta):\n",
    "    # Function for creating line chart showing ticker prices over the last delta seconds\n",
    "    df=get_price_delta(tick,res,delta)\n",
    "    aux=df.copy(deep=True)\n",
    "    aux['time'] = pd.to_datetime(aux['time'], unit='ms')\n",
    "    fig = go.Figure([go.Scatter(x = aux['time'], y = df['close'],\\\n",
    "                     line = dict(color = 'firebrick', width = 4), name = tick)\n",
    "                     ])\n",
    "    fig.update_layout(title = 'Prices over time',\n",
    "                      xaxis_title = 'Dates',\n",
    "                      yaxis_title = 'Prices'\n",
    "                      )\n",
    "    return fig\n",
    "def graph(df):\n",
    "    # Function for creating line chart showing spread prices\n",
    "    aux=df.copy(deep=True)\n",
    "    aux['time'] = pd.to_datetime(aux['time'], unit='ms')\n",
    "    fig = go.Figure([go.Scatter(x = aux['time'], y = df['close'],\\\n",
    "                     line = dict(color = 'firebrick', width = 4), name = 'Spread')\n",
    "                     ])\n",
    "    fig.update_layout(title = 'Spread over time',\n",
    "                      xaxis_title = 'Dates',\n",
    "                      yaxis_title = 'Spread'\n",
    "                      )\n",
    "    return fig\n",
    "#Get spread between two assets given a cointegration coefficient, resolution since actual time-delta seconds\n",
    "def get_spread(tick_1,tick_2,lam12,res,delta):\n",
    "    df1=get_price_delta(tick_1,res,delta)\n",
    "    df2=get_price_delta(tick_2,res,delta)\n",
    "    dfaux=[df1['time'],np.log10(df1['close'])-lam12*np.log10(df2['close'])]\n",
    "    headers = ['time','close']\n",
    "    dfs = pd.concat(dfaux, axis=1, keys=headers)\n",
    "    return dfs"
   ]
  },
  {
   "cell_type": "code",
   "execution_count": 106,
   "metadata": {},
   "outputs": [],
   "source": [
    "app = dash.Dash()   #initialising dash app\n",
    "tick1='AR'\n",
    "tick2='SECO'\n",
    "lam12=1.2\n",
    "res=300\n",
    "delta=5*86400\n",
    "sp=get_spread(tick1,tick2,lam12,res,delta)\n",
    "\n",
    "app.layout = html.Div(id = 'parent', children = [\n",
    "    html.H1(id = 'H1', children = 'Spread of '+tick1+' and '+tick2+' with lambda= '+str(lam12), style = {'textAlign':'center',\\\n",
    "                                            'marginTop':40,'marginBottom':40}),\n",
    "\n",
    "        \n",
    "        dcc.Graph(id = 'line_plot', figure = graph(sp))    \n",
    "    ]\n",
    "                     )"
   ]
  },
  {
   "cell_type": "code",
   "execution_count": 107,
   "metadata": {
    "scrolled": true
   },
   "outputs": [
    {
     "name": "stdout",
     "output_type": "stream",
     "text": [
      "Dash is running on http://127.0.0.1:8050/\n",
      "\n",
      "Dash is running on http://127.0.0.1:8050/\n",
      "\n",
      "Dash is running on http://127.0.0.1:8050/\n",
      "\n",
      "Dash is running on http://127.0.0.1:8050/\n",
      "\n",
      "Dash is running on http://127.0.0.1:8050/\n",
      "\n",
      " * Serving Flask app \"__main__\" (lazy loading)\n",
      " * Environment: production\n",
      "   WARNING: This is a development server. Do not use it in a production deployment.\n",
      "   Use a production WSGI server instead.\n",
      " * Debug mode: off\n"
     ]
    },
    {
     "name": "stderr",
     "output_type": "stream",
     "text": [
      " * Running on http://127.0.0.1:8050/ (Press CTRL+C to quit)\n",
      "127.0.0.1 - - [05/Jan/2022 13:02:15] \"GET / HTTP/1.1\" 200 -\n",
      "127.0.0.1 - - [05/Jan/2022 13:02:15] \"GET /_dash-layout HTTP/1.1\" 200 -\n",
      "127.0.0.1 - - [05/Jan/2022 13:02:15] \"GET /_dash-dependencies HTTP/1.1\" 200 -\n",
      "127.0.0.1 - - [05/Jan/2022 13:02:15] \"GET /_dash-component-suites/dash/dcc/async-graph.js HTTP/1.1\" 200 -\n",
      "127.0.0.1 - - [05/Jan/2022 13:02:15] \"GET /_dash-component-suites/dash/dcc/async-plotlyjs.js HTTP/1.1\" 200 -\n"
     ]
    }
   ],
   "source": [
    "if __name__ == '__main__': \n",
    "    app.run_server()"
   ]
  },
  {
   "cell_type": "markdown",
   "metadata": {},
   "source": [
    "# Tests"
   ]
  },
  {
   "cell_type": "code",
   "execution_count": null,
   "metadata": {},
   "outputs": [],
   "source": []
  }
 ],
 "metadata": {
  "kernelspec": {
   "display_name": "Python 3",
   "language": "python",
   "name": "python3"
  },
  "language_info": {
   "codemirror_mode": {
    "name": "ipython",
    "version": 3
   },
   "file_extension": ".py",
   "mimetype": "text/x-python",
   "name": "python",
   "nbconvert_exporter": "python",
   "pygments_lexer": "ipython3",
   "version": "3.7.3"
  }
 },
 "nbformat": 4,
 "nbformat_minor": 2
}
