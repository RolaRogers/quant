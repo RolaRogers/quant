{
 "cells": [
  {
   "cell_type": "code",
   "execution_count": 2,
   "metadata": {},
   "outputs": [],
   "source": [
    "import pandas as pd\n",
    "import requests\n",
    "import numpy as np\n",
    "import matplotlib.pyplot as plt"
   ]
  },
  {
   "cell_type": "code",
   "execution_count": 3,
   "metadata": {},
   "outputs": [],
   "source": [
    "def get_price(tick,res):\n",
    "    res=str(res)\n",
    "    hist=requests.get('https://ftx.com/api/markets/'+tick+'-PERP/candles?resolution='+res+'&start_time='+'0'+'&limit=1000').json()\n",
    "    hist=pd.DataFrame(hist['result'])\n",
    "    hist.drop(['startTime'], axis = 1, inplace=True)\n",
    "    return hist\n",
    "\n",
    "def get_time(hist):\n",
    "    aux=hist.copy(deep=True)\n",
    "    aux['time'] = pd.to_datetime(aux['time'], unit='ms')\n",
    "    aux.set_index('time', inplace=True)\n",
    "    return aux\n",
    "\n",
    "def get_initime(hist):\n",
    "    aux=hist.copy(deep=True)\n",
    "    aux['time'] = pd.to_datetime(aux['time'], unit='ms')\n",
    "    return aux['time'][0]\n",
    "\n",
    "def get_time(hist,i):\n",
    "    aux=hist.copy(deep=True)\n",
    "    aux['time'] = pd.to_datetime(aux['time'], unit='ms')\n",
    "    return aux['time'][i]"
   ]
  },
  {
   "cell_type": "markdown",
   "metadata": {},
   "source": [
    "# Calculate cointegration constant"
   ]
  },
  {
   "cell_type": "code",
   "execution_count": 4,
   "metadata": {},
   "outputs": [],
   "source": [
    "def coint_test(tick1,tick2,res):\n",
    "    A=get_price(tick1,res)\n",
    "    B=get_price(tick2,res)\n",
    "    if not get_initime(B)==get_initime(A):\n",
    "        print('Different initial time')\n",
    "        return \n",
    "    X = np.stack((np.log(A['close']), np.log(B['close'])), axis=0)\n",
    "    cov=np.cov(X)\n",
    "    #print(cov)\n",
    "    covAB=cov[0,1]\n",
    "    varA=cov[0,0]\n",
    "    varB=cov[1,1]\n",
    "    cor=covAB/(np.sqrt(varA*varB))\n",
    "    lAB=covAB/varB #res=log(A)-lAB*log(B)\n",
    "    lBA=covAB/varA #res=log(B)-lBA*log(A)\n",
    "    spreadAB=np.log(A['close'])-lAB*np.log(B['close'])\n",
    "    muAB=np.mean(spreadAB)\n",
    "    spreadBA=np.log(B['close'])-lBA*np.log(A['close'])\n",
    "    muBA=np.mean(spreadBA)\n",
    "    return cor,lAB,lBA,muAB,muBA,spreadAB,spreadBA\n",
    "\n",
    "def print_spread(tick1,tick2,res):\n",
    "    aux=coint_test(tick1,tick2,res)\n",
    "    if aux[1]>aux[2]:\n",
    "        print('We are gonna use A-lAB*B with correlation='+str(aux[0])+' and lambda_AB='+str(aux[1]))\n",
    "        plt.plot(aux[5]-aux[3])\n",
    "        return aux[5]\n",
    "    else :\n",
    "        print('We are gonna use B-lBA*A with correlation='+str(aux[0])+' and lambda_BA='+str(aux[2]))\n",
    "        plt.plot(aux[6]-aux[4])\n",
    "        return aux[6]"
   ]
  },
  {
   "cell_type": "markdown",
   "metadata": {},
   "source": [
    "## Augmented Dickey–Fuller test"
   ]
  },
  {
   "cell_type": "code",
   "execution_count": 5,
   "metadata": {},
   "outputs": [],
   "source": [
    "import statsmodels.api as stat\n",
    "import statsmodels.tsa.stattools as ts"
   ]
  },
  {
   "cell_type": "code",
   "execution_count": 6,
   "metadata": {},
   "outputs": [],
   "source": [
    "def adfuller_test(tick1,tick2,res):\n",
    "    A=get_price(tick1,res)\n",
    "    B=get_price(tick2,res)\n",
    "    aux=stat.OLS(A['close'],B['close']).fit()\n",
    "    c_t=ts.adfuller(aux.resid)\n",
    "    if c_t[0]<=c_t[4]['10%'] and c_t[1]<0.1:\n",
    "        print(tick1+' and '+tick2+' are cointegrated')\n",
    "    else :\n",
    "        print(tick1+' and '+tick2+' are not cointegrated')"
   ]
  },
  {
   "cell_type": "markdown",
   "metadata": {},
   "source": [
    "# Profit function"
   ]
  },
  {
   "cell_type": "code",
   "execution_count": 7,
   "metadata": {
    "scrolled": true
   },
   "outputs": [],
   "source": [
    "# Counts how many times the series mean reverts\n",
    "def cross_count(spread,delta):\n",
    "    signal=0\n",
    "    count=0\n",
    "    mu=np.mean(spread)\n",
    "    long=[]\n",
    "    close=[]\n",
    "    short=[]\n",
    "    for i in range(len(spread)):\n",
    "        if spread[i]<=-delta+mu and signal==0:\n",
    "            signal=1\n",
    "            long.append(i)\n",
    "        elif spread[i]>=delta+mu and signal==0:\n",
    "            signal=-1\n",
    "            short.append(i)\n",
    "        if signal==1 and spread[i]>=mu:\n",
    "            count=count+1\n",
    "            signal=0\n",
    "            close.append(i)\n",
    "        elif signal==-1 and spread[i]<=mu:\n",
    "            count=count+1\n",
    "            signal=0\n",
    "            close.append(i)\n",
    "    return count,long,short,close\n",
    "# Return is gonna be delta times the amount of mean reverts\n",
    "def profit_cross(spread,delta):\n",
    "    return delta*cross_count(spread,delta)[0]"
   ]
  },
  {
   "cell_type": "code",
   "execution_count": 57,
   "metadata": {},
   "outputs": [],
   "source": [
    "# Returns the profits, number of mean reverts with different delta values\n",
    "def profit_array(spread,N):\n",
    "    mu=np.mean(spread)\n",
    "    delta_max=np.max(spread-mu)\n",
    "    delta_array=np.linspace(0,delta_max,num=N)\n",
    "    prof=np.zeros(len(delta_array))\n",
    "    cross=np.zeros(len(delta_array))\n",
    "    for i in range(len(delta_array)):\n",
    "        cross[i]=cross_count(spread,delta_array[i])[0]\n",
    "        prof[i]=delta_array[i]*cross[i]\n",
    "    return prof,cross,delta_array"
   ]
  },
  {
   "cell_type": "code",
   "execution_count": 45,
   "metadata": {},
   "outputs": [],
   "source": [
    "from scipy.optimize import minimize\n",
    "#Regularization of number of mean reverts function\n",
    "#Objective function of T-M L2 regularization\n",
    "def obj(z,y,lam):\n",
    "    cost=0\n",
    "    for i in range(len(y)):\n",
    "        cost=cost+(y[i]-z[i])**2\n",
    "    for i in range(len(z)-1):\n",
    "        cost=cost+lam*(z[i]-z[i+1])**2\n",
    "    return cost\n",
    "#Returns regularization\n",
    "def tm_reg(y,lam):\n",
    "    return minimize(obj,y, args=(y,lam)).x\n",
    "#Returns regularized profit profile\n",
    "def tm_reg_profit(delta_array,cross_reg):\n",
    "    aux=np.zeros(len(cross_reg))\n",
    "    for i in range(len(aux)):\n",
    "        aux[i]=delta_array[i]*cross_reg[i]\n",
    "    return aux"
   ]
  },
  {
   "cell_type": "markdown",
   "metadata": {},
   "source": [
    "# TESTS"
   ]
  },
  {
   "cell_type": "code",
   "execution_count": 10,
   "metadata": {
    "scrolled": false
   },
   "outputs": [
    {
     "name": "stdout",
     "output_type": "stream",
     "text": [
      "We are gonna use B-lBA*A with correlation=0.9577269485746446 and lambda_BA=1.2080674471477406\n"
     ]
    },
    {
     "data": {
      "image/png": "[encoded data removed]",
      "text/plain": [
       "<Figure size 432x288 with 1 Axes>"
      ]
     },
     "metadata": {
      "needs_background": "light"
     },
     "output_type": "display_data"
    }
   ],
   "source": [
    "a=print_spread('BCH','OMG',3600)"
   ]
  },
  {
   "cell_type": "code",
   "execution_count": 11,
   "metadata": {},
   "outputs": [
    {
     "name": "stdout",
     "output_type": "stream",
     "text": [
      "BCH and OMG are cointegrated\n"
     ]
    }
   ],
   "source": [
    "adfuller_test('BCH','OMG',3600)"
   ]
  },
  {
   "cell_type": "code",
   "execution_count": 63,
   "metadata": {},
   "outputs": [],
   "source": [
    "aux=profit_array(a,100)"
   ]
  },
  {
   "cell_type": "code",
   "execution_count": 64,
   "metadata": {},
   "outputs": [],
   "source": [
    "soli=tm_reg(aux[1],10)"
   ]
  },
  {
   "cell_type": "code",
   "execution_count": 65,
   "metadata": {
    "scrolled": true
   },
   "outputs": [
    {
     "data": {
      "text/plain": [
       "([<matplotlib.lines.Line2D at 0x7f8fe1173cc0>],\n",
       " [<matplotlib.lines.Line2D at 0x7f8fe1173e10>])"
      ]
     },
     "execution_count": 65,
     "metadata": {},
     "output_type": "execute_result"
    },
    {
     "data": {
      "image/png": "[encoded data removed]",
      "text/plain": [
       "<Figure size 432x288 with 1 Axes>"
      ]
     },
     "metadata": {
      "needs_background": "light"
     },
     "output_type": "display_data"
    }
   ],
   "source": [
    "plt.plot(aux[2],aux[1]),plt.plot(aux[2],soli)"
   ]
  },
  {
   "cell_type": "code",
   "execution_count": 66,
   "metadata": {},
   "outputs": [],
   "source": [
    "prof_reg=tm_reg_profit(aux[2],soli)"
   ]
  },
  {
   "cell_type": "code",
   "execution_count": 62,
   "metadata": {},
   "outputs": [
    {
     "data": {
      "text/plain": [
       "([<matplotlib.lines.Line2D at 0x7f8fe120cef0>],\n",
       " [<matplotlib.lines.Line2D at 0x7f8fe1218358>])"
      ]
     },
     "execution_count": 62,
     "metadata": {},
     "output_type": "execute_result"
    },
    {
     "data": {
      "image/png": "[encoded data removed]",
      "text/plain": [
       "<Figure size 432x288 with 1 Axes>"
      ]
     },
     "metadata": {
      "needs_background": "light"
     },
     "output_type": "display_data"
    }
   ],
   "source": [
    "plt.plot(aux[2],aux[0]),plt.plot(aux[2],prof_reg)"
   ]
  },
  {
   "cell_type": "code",
   "execution_count": 68,
   "metadata": {},
   "outputs": [],
   "source": [
    "b=cross_count(a,0.04)"
   ]
  },
  {
   "cell_type": "code",
   "execution_count": 69,
   "metadata": {},
   "outputs": [],
   "source": [
    "bch=get_price('BCH',3600)"
   ]
  },
  {
   "cell_type": "code",
   "execution_count": 70,
   "metadata": {},
   "outputs": [
    {
     "data": {
      "text/plain": [
       "Timestamp('2021-11-22 00:00:00')"
      ]
     },
     "execution_count": 70,
     "metadata": {},
     "output_type": "execute_result"
    }
   ],
   "source": [
    "#3 horas menos en TV\n",
    "get_time(bch,0)"
   ]
  },
  {
   "cell_type": "code",
   "execution_count": 71,
   "metadata": {},
   "outputs": [
    {
     "data": {
      "text/plain": [
       "568.35"
      ]
     },
     "execution_count": 71,
     "metadata": {},
     "output_type": "execute_result"
    }
   ],
   "source": [
    "bch['close'][0]"
   ]
  },
  {
   "cell_type": "code",
   "execution_count": 27,
   "metadata": {},
   "outputs": [
    {
     "data": {
      "text/plain": [
       "(12,\n",
       " [68, 283, 459, 525, 674, 975],\n",
       " [0, 194, 379, 402, 602, 737],\n",
       " [62, 191, 227, 367, 395, 435, 488, 583, 616, 728, 902, 999])"
      ]
     },
     "execution_count": 27,
     "metadata": {},
     "output_type": "execute_result"
    }
   ],
   "source": [
    "b"
   ]
  },
  {
   "cell_type": "code",
   "execution_count": null,
   "metadata": {},
   "outputs": [],
   "source": []
  }
 ],
 "metadata": {
  "kernelspec": {
   "display_name": "Python 3",
   "language": "python",
   "name": "python3"
  },
  "language_info": {
   "codemirror_mode": {
    "name": "ipython",
    "version": 3
   },
   "file_extension": ".py",
   "mimetype": "text/x-python",
   "name": "python",
   "nbconvert_exporter": "python",
   "pygments_lexer": "ipython3",
   "version": "3.7.3"
  }
 },
 "nbformat": 4,
 "nbformat_minor": 2
}
