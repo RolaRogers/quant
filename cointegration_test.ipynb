{
 "cells": [
  {
   "cell_type": "code",
   "execution_count": 1,
   "metadata": {},
   "outputs": [],
   "source": [
    "import pandas as pd\n",
    "import requests\n",
    "import numpy as np\n",
    "import matplotlib.pyplot as plt"
   ]
  },
  {
   "cell_type": "code",
   "execution_count": 70,
   "metadata": {},
   "outputs": [],
   "source": [
    "def get_price(tick,res):\n",
    "    res=str(res)\n",
    "    hist=requests.get('https://ftx.com/api/markets/'+tick+'-PERP/candles?resolution='+res+'&start_time='+'0'+'&limit=1000').json()\n",
    "    hist=pd.DataFrame(hist['result'])\n",
    "    hist.drop(['startTime'], axis = 1, inplace=True)\n",
    "    return hist\n",
    "\n",
    "def get_time(hist):\n",
    "    aux=hist.copy(deep=True)\n",
    "    aux['time'] = pd.to_datetime(aux['time'], unit='ms')\n",
    "    aux.set_index('time', inplace=True)\n",
    "    return aux\n",
    "\n",
    "def get_initime(hist):\n",
    "    aux=hist.copy(deep=True)\n",
    "    aux['time'] = pd.to_datetime(aux['time'], unit='ms')\n",
    "    return aux['time'][0]"
   ]
  },
  {
   "cell_type": "markdown",
   "metadata": {},
   "source": [
    "# Calculate cointegration constant"
   ]
  },
  {
   "cell_type": "code",
   "execution_count": 119,
   "metadata": {},
   "outputs": [],
   "source": [
    "def coint_test(tick1,tick2,res):\n",
    "    A=get_price(tick1,res)\n",
    "    B=get_price(tick2,res)\n",
    "    if not get_initime(B)==get_initime(A):\n",
    "        print('Different initial time')\n",
    "        return \n",
    "    X = np.stack((np.log(A['close']), np.log(B['close'])), axis=0)\n",
    "    cov=np.cov(X)\n",
    "    #print(cov)\n",
    "    covAB=cov[0,1]\n",
    "    varA=cov[0,0]\n",
    "    varB=cov[1,1]\n",
    "    cor=covAB/(np.sqrt(varA*varB))\n",
    "    lAB=covAB/varB #res=log(A)-lAB*log(B)\n",
    "    lBA=covAB/varA #res=log(B)-lBA*log(A)\n",
    "    spreadAB=np.log(A['close'])-lAB*np.log(B['close'])\n",
    "    muAB=np.mean(spreadAB)\n",
    "    spreadBA=np.log(B['close'])-lBA*np.log(A['close'])\n",
    "    muBA=np.mean(spreadBA)\n",
    "    return cor,lAB,lBA,muAB,muBA,spreadAB,spreadBA\n",
    "\n",
    "def print_spread(tick1,tick2,res):\n",
    "    aux=coint_test(tick1,tick2,res)\n",
    "    if aux[1]>aux[2]:\n",
    "        print('We are gonna use A-lAB*B with correlation='+str(aux[0])+' and lambda_AB='+str(aux[1]))\n",
    "        plt.plot(aux[5]-aux[3])\n",
    "        return aux[5]-aux[3]\n",
    "    else :\n",
    "        print('We are gonna use B-lBA*A with correlation='+str(aux[0])+' and lambda_BA='+str(aux[2]))\n",
    "        plt.plot(aux[6]-aux[4])\n",
    "        return aux[6]-aux[4]"
   ]
  },
  {
   "cell_type": "markdown",
   "metadata": {},
   "source": [
    "## Augmented Dickey–Fuller test"
   ]
  },
  {
   "cell_type": "code",
   "execution_count": 95,
   "metadata": {},
   "outputs": [],
   "source": [
    "import statsmodels.api as stat\n",
    "import statsmodels.tsa.stattools as ts"
   ]
  },
  {
   "cell_type": "code",
   "execution_count": 96,
   "metadata": {},
   "outputs": [],
   "source": [
    "def adfuller_test(tick1,tick2,res):\n",
    "    A=get_price(tick1,res)\n",
    "    B=get_price(tick2,res)\n",
    "    aux=stat.OLS(A['close'],B['close']).fit()\n",
    "    c_t=ts.adfuller(aux.resid)\n",
    "    if c_t[0]<=c_t[4]['10%'] and c_t[1]<0.1:\n",
    "        print(tick1+' and '+tick2+' are cointegrated')\n",
    "    else :\n",
    "        print(tick1+' and '+tick2+' are not cointegrated')"
   ]
  },
  {
   "cell_type": "markdown",
   "metadata": {},
   "source": [
    "# Profit function"
   ]
  },
  {
   "cell_type": "code",
   "execution_count": null,
   "metadata": {},
   "outputs": [],
   "source": []
  }
 ],
 "metadata": {
  "kernelspec": {
   "display_name": "Python 3",
   "language": "python",
   "name": "python3"
  },
  "language_info": {
   "codemirror_mode": {
    "name": "ipython",
    "version": 3
   },
   "file_extension": ".py",
   "mimetype": "text/x-python",
   "name": "python",
   "nbconvert_exporter": "python",
   "pygments_lexer": "ipython3",
   "version": "3.7.3"
  }
 },
 "nbformat": 4,
 "nbformat_minor": 2
}
