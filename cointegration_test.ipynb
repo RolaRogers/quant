{
 "cells": [
  {
   "cell_type": "code",
   "execution_count": 1,
   "metadata": {},
   "outputs": [],
   "source": [
    "import pandas as pd\n",
    "import requests\n",
    "import numpy as np\n",
    "import matplotlib.pyplot as plt"
   ]
  },
  {
   "cell_type": "code",
   "execution_count": 39,
   "metadata": {},
   "outputs": [],
   "source": [
    "def get_price(tick,res):\n",
    "    res=str(res)\n",
    "    hist=requests.get('https://ftx.com/api/markets/'+tick+'-PERP/candles?resolution='+res+'&start_time='+'0'+'&limit=5000').json()\n",
    "    hist=pd.DataFrame(hist['result'])\n",
    "    hist.drop(['startTime'], axis = 1, inplace=True)\n",
    "    return hist\n",
    "\n",
    "def get_time(hist):\n",
    "    aux=hist.copy(deep=True)\n",
    "    aux['time'] = pd.to_datetime(aux['time'], unit='ms')\n",
    "    aux.set_index('time', inplace=True)\n",
    "    return aux\n",
    "\n",
    "def get_initime(hist):\n",
    "    aux=hist.copy(deep=True)\n",
    "    aux['time'] = pd.to_datetime(aux['time'], unit='ms')\n",
    "    return aux['time'][0]"
   ]
  },
  {
   "cell_type": "markdown",
   "metadata": {},
   "source": [
    "# Calculate cointegration constant"
   ]
  },
  {
   "cell_type": "code",
   "execution_count": 40,
   "metadata": {},
   "outputs": [],
   "source": [
    "def coint_test(tick1,tick2,res):\n",
    "    A=get_price(tick1,res)\n",
    "    B=get_price(tick2,res)\n",
    "    if not get_initime(B)==get_initime(A):\n",
    "        print('Different initial time')\n",
    "        return \n",
    "    X = np.stack((np.log(A['close']), np.log(B['close'])), axis=0)\n",
    "    cov=np.cov(X)\n",
    "    #print(cov)\n",
    "    covAB=cov[0,1]\n",
    "    varA=cov[0,0]\n",
    "    varB=cov[1,1]\n",
    "    cor=covAB/(np.sqrt(varA*varB))\n",
    "    lAB=covAB/varB #res=log(A)-lAB*log(B)\n",
    "    lBA=covAB/varA #res=log(B)-lBA*log(A)\n",
    "    spreadAB=np.log(A['close'])-lAB*np.log(B['close'])\n",
    "    muAB=np.mean(spreadAB)\n",
    "    spreadBA=np.log(B['close'])-lBA*np.log(A['close'])\n",
    "    muBA=np.mean(spreadBA)\n",
    "    return cor,lAB,lBA,muAB,muBA,spreadAB,spreadBA\n",
    "\n",
    "def print_spread(tick1,tick2,res):\n",
    "    aux=coint_test(tick1,tick2,res)\n",
    "    if aux[1]>aux[2]:\n",
    "        print('We are gonna use A-lAB*B with correlation='+str(aux[0])+' and lambda_AB='+str(aux[1]))\n",
    "        plt.plot(aux[5]-aux[3])\n",
    "        return aux[5]\n",
    "    else :\n",
    "        print('We are gonna use B-lBA*A with correlation='+str(aux[0])+' and lambda_BA='+str(aux[2]))\n",
    "        plt.plot(aux[6]-aux[4])\n",
    "        return aux[6]"
   ]
  },
  {
   "cell_type": "markdown",
   "metadata": {},
   "source": [
    "## Augmented Dickey–Fuller test"
   ]
  },
  {
   "cell_type": "code",
   "execution_count": 41,
   "metadata": {},
   "outputs": [],
   "source": [
    "import statsmodels.api as stat\n",
    "import statsmodels.tsa.stattools as ts"
   ]
  },
  {
   "cell_type": "code",
   "execution_count": 42,
   "metadata": {},
   "outputs": [],
   "source": [
    "def adfuller_test(tick1,tick2,res):\n",
    "    A=get_price(tick1,res)\n",
    "    B=get_price(tick2,res)\n",
    "    aux=stat.OLS(A['close'],B['close']).fit()\n",
    "    c_t=ts.adfuller(aux.resid)\n",
    "    if c_t[0]<=c_t[4]['10%'] and c_t[1]<0.1:\n",
    "        print(tick1+' and '+tick2+' are cointegrated')\n",
    "    else :\n",
    "        print(tick1+' and '+tick2+' are not cointegrated')"
   ]
  },
  {
   "cell_type": "markdown",
   "metadata": {},
   "source": [
    "# Profit function"
   ]
  },
  {
   "cell_type": "code",
   "execution_count": 43,
   "metadata": {
    "scrolled": true
   },
   "outputs": [],
   "source": [
    "# Counts how many times the series mean reverts\n",
    "def cross_count(spread,delta):\n",
    "    signal=0\n",
    "    count=0\n",
    "    mu=np.mean(spread)\n",
    "    for i in range(len(spread)):\n",
    "        if spread[i]<=-delta+mu and signal==0:\n",
    "            signal=1\n",
    "        elif spread[i]>=delta+mu and signal==0:\n",
    "            signal=-1\n",
    "        if signal==1 and spread[i]>=mu:\n",
    "            count=count+1\n",
    "            signal=0\n",
    "        elif signal==-1 and spread[i]<=mu:\n",
    "            count=count+1\n",
    "            signal=0\n",
    "    return count\n",
    "# Return is gonna be delta times the amount of mean reverts\n",
    "def profit_cross(spread,delta):\n",
    "    return delta*cross_count(spread,delta)"
   ]
  },
  {
   "cell_type": "code",
   "execution_count": 44,
   "metadata": {},
   "outputs": [],
   "source": [
    "# Returns the profits, number of mean reverts with different delta values\n",
    "def profit_array(spread):\n",
    "    mu=np.mean(spread)\n",
    "    delta_max=np.max(spread-mu)\n",
    "    delta_array=np.linspace(0,delta_max,num=50)\n",
    "    prof=np.zeros(len(delta_array))\n",
    "    cross=np.zeros(len(delta_array))\n",
    "    for i in range(len(delta_array)):\n",
    "        cross[i]=cross_count(spread,delta_array[i])\n",
    "        prof[i]=delta_array[i]*cross[i]\n",
    "    return prof,cross,delta_array"
   ]
  },
  {
   "cell_type": "code",
   "execution_count": 45,
   "metadata": {},
   "outputs": [],
   "source": [
    "#Regularization of number of mean reverts function\n"
   ]
  },
  {
   "cell_type": "code",
   "execution_count": 46,
   "metadata": {
    "scrolled": false
   },
   "outputs": [
    {
     "name": "stdout",
     "output_type": "stream",
     "text": [
      "We are gonna use B-lBA*A with correlation=0.5002145284971594 and lambda_BA=0.6435018101789388\n"
     ]
    },
    {
     "data": {
      "image/png": "[encoded data removed]",
      "text/plain": [
       "<Figure size 432x288 with 1 Axes>"
      ]
     },
     "metadata": {
      "needs_background": "light"
     },
     "output_type": "display_data"
    }
   ],
   "source": [
    "a=print_spread('BCH','OMG',60)"
   ]
  },
  {
   "cell_type": "code",
   "execution_count": 47,
   "metadata": {},
   "outputs": [
    {
     "name": "stdout",
     "output_type": "stream",
     "text": [
      "BCH and OMG are not cointegrated\n"
     ]
    }
   ],
   "source": [
    "adfuller_test('BCH','OMG',60)"
   ]
  },
  {
   "cell_type": "code",
   "execution_count": 49,
   "metadata": {},
   "outputs": [],
   "source": [
    "aux=profit_array(a)"
   ]
  },
  {
   "cell_type": "code",
   "execution_count": 50,
   "metadata": {},
   "outputs": [
    {
     "data": {
      "text/plain": [
       "[<matplotlib.lines.Line2D at 0x7fbc12da02e8>]"
      ]
     },
     "execution_count": 50,
     "metadata": {},
     "output_type": "execute_result"
    },
    {
     "data": {
      "image/png": "[encoded data removed]",
      "text/plain": [
       "<Figure size 432x288 with 1 Axes>"
      ]
     },
     "metadata": {
      "needs_background": "light"
     },
     "output_type": "display_data"
    }
   ],
   "source": [
    "plt.plot(aux[2],aux[0])"
   ]
  },
  {
   "cell_type": "code",
   "execution_count": 51,
   "metadata": {},
   "outputs": [
    {
     "data": {
      "text/plain": [
       "[<matplotlib.lines.Line2D at 0x7fbc12c0f9e8>]"
      ]
     },
     "execution_count": 51,
     "metadata": {},
     "output_type": "execute_result"
    },
    {
     "data": {
      "image/png": "[encoded data removed]",
      "text/plain": [
       "<Figure size 432x288 with 1 Axes>"
      ]
     },
     "metadata": {
      "needs_background": "light"
     },
     "output_type": "display_data"
    }
   ],
   "source": [
    "plt.plot(aux[2],aux[1])"
   ]
  },
  {
   "cell_type": "code",
   "execution_count": null,
   "metadata": {},
   "outputs": [],
   "source": []
  }
 ],
 "metadata": {
  "kernelspec": {
   "display_name": "Python 3",
   "language": "python",
   "name": "python3"
  },
  "language_info": {
   "codemirror_mode": {
    "name": "ipython",
    "version": 3
   },
   "file_extension": ".py",
   "mimetype": "text/x-python",
   "name": "python",
   "nbconvert_exporter": "python",
   "pygments_lexer": "ipython3",
   "version": "3.7.3"
  }
 },
 "nbformat": 4,
 "nbformat_minor": 2
}
